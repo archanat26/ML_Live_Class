{
  "nbformat": 4,
  "nbformat_minor": 0,
  "metadata": {
    "colab": {
      "name": "Task_2.ipynb",
      "provenance": [],
      "collapsed_sections": [],
      "authorship_tag": "ABX9TyOICfq9j6XOnHg6fA2eSfnd",
      "include_colab_link": true
    },
    "kernelspec": {
      "name": "python3",
      "display_name": "Python 3"
    },
    "language_info": {
      "name": "python"
    }
  },
  "cells": [
    {
      "cell_type": "markdown",
      "metadata": {
        "id": "view-in-github",
        "colab_type": "text"
      },
      "source": [
        "<a href=\"https://colab.research.google.com/github/archanat26/iNueron_Tasks/blob/main/Task_2.ipynb\" target=\"_parent\"><img src=\"https://colab.research.google.com/assets/colab-badge.svg\" alt=\"Open In Colab\"/></a>"
      ]
    },
    {
      "cell_type": "code",
      "execution_count": 1,
      "metadata": {
        "colab": {
          "base_uri": "https://localhost:8080/"
        },
        "id": "3MnqPbCDP53v",
        "outputId": "212e654d-65cd-45f8-acbf-7b397ac1d71e"
      },
      "outputs": [
        {
          "output_type": "stream",
          "name": "stdout",
          "text": [
            "* \n",
            "* * \n",
            "* * * \n",
            "* * * * \n",
            "* * * * * \n",
            "* * * * * * \n",
            "* * * * * * * \n",
            "* * * * * * * * \n",
            "* * * * * * * * * \n"
          ]
        }
      ],
      "source": [
        "# 1) Print using While Loop\n",
        "i = 1\n",
        "while i < 10:\n",
        "  print('* ' * i)\n",
        "  i+=1\n"
      ]
    },
    {
      "cell_type": "code",
      "source": [
        "# Function way\n",
        "\n",
        "def starNums(m):\n",
        "  i = 1\n",
        "  while i < m:\n",
        "    print('* ' * i)\n",
        "    i+=1\n",
        "\n",
        "starNums(10)"
      ],
      "metadata": {
        "colab": {
          "base_uri": "https://localhost:8080/"
        },
        "id": "Z6bJ59T7gvBw",
        "outputId": "a6c11df4-355c-42e7-ef54-f6d9bd0abd7c"
      },
      "execution_count": 2,
      "outputs": [
        {
          "output_type": "stream",
          "name": "stdout",
          "text": [
            "* \n",
            "* * \n",
            "* * * \n",
            "* * * * \n",
            "* * * * * \n",
            "* * * * * * \n",
            "* * * * * * * \n",
            "* * * * * * * * \n",
            "* * * * * * * * * \n"
          ]
        }
      ]
    },
    {
      "cell_type": "code",
      "source": [
        "#2. Print A to Z Characters in given style\n",
        "\n",
        "def printAtoZ():\n",
        "  a = ord('A')\n",
        "  z = ord('Z')\n",
        "  m = 0\n",
        "  \n",
        "\n",
        "  while (m < 7): # Next Line\n",
        "    i = 0\n",
        "    res = 0\n",
        "    n1 = 6\n",
        "\n",
        "    while (i < m+1):  # Next Character on same line\n",
        "      c = a + m + res # Next Character ASCII code\n",
        "      res = res + n1\n",
        "      n1 += -1 \n",
        "\n",
        "      if(c > z): # To avoid printing characters beyond Z in last line.\n",
        "        break\n",
        "\n",
        "      k = chr(c) \n",
        "\n",
        "      if(k in ['O', 'P', 'Z']):\n",
        "        k = k.lower()\n",
        "\n",
        "      print(k, end = ' ')\n",
        "      i += 1\n",
        "\n",
        "    print(\"\\n\")\n",
        "    m += 1\n",
        "  \n",
        "printAtoZ()"
      ],
      "metadata": {
        "colab": {
          "base_uri": "https://localhost:8080/"
        },
        "id": "Msr_6s0lWW_P",
        "outputId": "a318f371-6d80-4aa9-9509-50e131e7a01b"
      },
      "execution_count": 3,
      "outputs": [
        {
          "output_type": "stream",
          "name": "stdout",
          "text": [
            "A \n",
            "\n",
            "B H \n",
            "\n",
            "C I N \n",
            "\n",
            "D J o S \n",
            "\n",
            "E K p T W \n",
            "\n",
            "F L Q U X z \n",
            "\n",
            "G M R V Y \n",
            "\n"
          ]
        }
      ]
    },
    {
      "cell_type": "code",
      "source": [
        "#3. Print all the numbers divisible by 3 between range 40 to 400\n",
        "i = 42\n",
        "while (i < 400):\n",
        "  print(i, end = ' ')\n",
        "  i += 3"
      ],
      "metadata": {
        "colab": {
          "base_uri": "https://localhost:8080/"
        },
        "id": "XHp3eYHhZXg4",
        "outputId": "40d13444-bf8a-4efe-d052-4c62a571cd35"
      },
      "execution_count": 4,
      "outputs": [
        {
          "output_type": "stream",
          "name": "stdout",
          "text": [
            "42 45 48 51 54 57 60 63 66 69 72 75 78 81 84 87 90 93 96 99 102 105 108 111 114 117 120 123 126 129 132 135 138 141 144 147 150 153 156 159 162 165 168 171 174 177 180 183 186 189 192 195 198 201 204 207 210 213 216 219 222 225 228 231 234 237 240 243 246 249 252 255 258 261 264 267 270 273 276 279 282 285 288 291 294 297 300 303 306 309 312 315 318 321 324 327 330 333 336 339 342 345 348 351 354 357 360 363 366 369 372 375 378 381 384 387 390 393 396 399 "
          ]
        }
      ]
    },
    {
      "cell_type": "code",
      "source": [
        "#3. Print all the numbers divisible by 3 between range 40 to 400\n",
        "# function\n",
        "\n",
        "def printNums(r1, r2, n):\n",
        "  for i in range(r1, r2, n): \n",
        "    print(i, end = ' ')\n",
        "\n",
        "printNums(42, 400, 3)"
      ],
      "metadata": {
        "colab": {
          "base_uri": "https://localhost:8080/"
        },
        "id": "E6nmsK66Y2LS",
        "outputId": "d805940d-e29d-4c75-c633-c2bac56cfd25"
      },
      "execution_count": 5,
      "outputs": [
        {
          "output_type": "stream",
          "name": "stdout",
          "text": [
            "42 45 48 51 54 57 60 63 66 69 72 75 78 81 84 87 90 93 96 99 102 105 108 111 114 117 120 123 126 129 132 135 138 141 144 147 150 153 156 159 162 165 168 171 174 177 180 183 186 189 192 195 198 201 204 207 210 213 216 219 222 225 228 231 234 237 240 243 246 249 252 255 258 261 264 267 270 273 276 279 282 285 288 291 294 297 300 303 306 309 312 315 318 321 324 327 330 333 336 339 342 345 348 351 354 357 360 363 366 369 372 375 378 381 384 387 390 393 396 399 "
          ]
        }
      ]
    },
    {
      "cell_type": "code",
      "source": [
        "#4. filter vowels from text below using while loop\n",
        "vow_l = ['a', 'e', 'i', 'o', 'u']\n",
        "str1 = \"ArchanaEIOUeiou\"\n",
        "i = 0\n",
        "while(i < len(vow_l)): \n",
        "  str1 = str1.lower().replace(vow_l[i], \"\")\n",
        "  i += 1\n",
        "\n",
        "print(str1)"
      ],
      "metadata": {
        "colab": {
          "base_uri": "https://localhost:8080/"
        },
        "id": "cr3SGy-yZ9ts",
        "outputId": "bab6e87d-2656-4020-b175-a13cc3f66990"
      },
      "execution_count": 6,
      "outputs": [
        {
          "output_type": "stream",
          "name": "stdout",
          "text": [
            "rchn\n"
          ]
        }
      ]
    },
    {
      "cell_type": "code",
      "source": [
        "# 5. Generate Even Numbers Between 1-- 1000\n",
        "i = 2\n",
        "while(i < 1001):\n",
        "  print(i, end = ' ')\n",
        "  i += 2"
      ],
      "metadata": {
        "colab": {
          "base_uri": "https://localhost:8080/"
        },
        "id": "a7KW1RvTgNmg",
        "outputId": "9c207cb3-c4df-4442-a55b-9cb1ea7fcdeb"
      },
      "execution_count": 7,
      "outputs": [
        {
          "output_type": "stream",
          "name": "stdout",
          "text": [
            "2 4 6 8 10 12 14 16 18 20 22 24 26 28 30 32 34 36 38 40 42 44 46 48 50 52 54 56 58 60 62 64 66 68 70 72 74 76 78 80 82 84 86 88 90 92 94 96 98 100 102 104 106 108 110 112 114 116 118 120 122 124 126 128 130 132 134 136 138 140 142 144 146 148 150 152 154 156 158 160 162 164 166 168 170 172 174 176 178 180 182 184 186 188 190 192 194 196 198 200 202 204 206 208 210 212 214 216 218 220 222 224 226 228 230 232 234 236 238 240 242 244 246 248 250 252 254 256 258 260 262 264 266 268 270 272 274 276 278 280 282 284 286 288 290 292 294 296 298 300 302 304 306 308 310 312 314 316 318 320 322 324 326 328 330 332 334 336 338 340 342 344 346 348 350 352 354 356 358 360 362 364 366 368 370 372 374 376 378 380 382 384 386 388 390 392 394 396 398 400 402 404 406 408 410 412 414 416 418 420 422 424 426 428 430 432 434 436 438 440 442 444 446 448 450 452 454 456 458 460 462 464 466 468 470 472 474 476 478 480 482 484 486 488 490 492 494 496 498 500 502 504 506 508 510 512 514 516 518 520 522 524 526 528 530 532 534 536 538 540 542 544 546 548 550 552 554 556 558 560 562 564 566 568 570 572 574 576 578 580 582 584 586 588 590 592 594 596 598 600 602 604 606 608 610 612 614 616 618 620 622 624 626 628 630 632 634 636 638 640 642 644 646 648 650 652 654 656 658 660 662 664 666 668 670 672 674 676 678 680 682 684 686 688 690 692 694 696 698 700 702 704 706 708 710 712 714 716 718 720 722 724 726 728 730 732 734 736 738 740 742 744 746 748 750 752 754 756 758 760 762 764 766 768 770 772 774 776 778 780 782 784 786 788 790 792 794 796 798 800 802 804 806 808 810 812 814 816 818 820 822 824 826 828 830 832 834 836 838 840 842 844 846 848 850 852 854 856 858 860 862 864 866 868 870 872 874 876 878 880 882 884 886 888 890 892 894 896 898 900 902 904 906 908 910 912 914 916 918 920 922 924 926 928 930 932 934 936 938 940 942 944 946 948 950 952 954 956 958 960 962 964 966 968 970 972 974 976 978 980 982 984 986 988 990 992 994 996 998 1000 "
          ]
        }
      ]
    },
    {
      "cell_type": "code",
      "source": [
        "# 5. Generate Even Numbers Between 1-- 1000: Function\n",
        "\n",
        "printNums(2, 1001, 2)"
      ],
      "metadata": {
        "colab": {
          "base_uri": "https://localhost:8080/"
        },
        "id": "CIRTBGOYfxDV",
        "outputId": "45cfdf78-7cca-4eae-bd7b-0762d6eba227"
      },
      "execution_count": 8,
      "outputs": [
        {
          "output_type": "stream",
          "name": "stdout",
          "text": [
            "2 4 6 8 10 12 14 16 18 20 22 24 26 28 30 32 34 36 38 40 42 44 46 48 50 52 54 56 58 60 62 64 66 68 70 72 74 76 78 80 82 84 86 88 90 92 94 96 98 100 102 104 106 108 110 112 114 116 118 120 122 124 126 128 130 132 134 136 138 140 142 144 146 148 150 152 154 156 158 160 162 164 166 168 170 172 174 176 178 180 182 184 186 188 190 192 194 196 198 200 202 204 206 208 210 212 214 216 218 220 222 224 226 228 230 232 234 236 238 240 242 244 246 248 250 252 254 256 258 260 262 264 266 268 270 272 274 276 278 280 282 284 286 288 290 292 294 296 298 300 302 304 306 308 310 312 314 316 318 320 322 324 326 328 330 332 334 336 338 340 342 344 346 348 350 352 354 356 358 360 362 364 366 368 370 372 374 376 378 380 382 384 386 388 390 392 394 396 398 400 402 404 406 408 410 412 414 416 418 420 422 424 426 428 430 432 434 436 438 440 442 444 446 448 450 452 454 456 458 460 462 464 466 468 470 472 474 476 478 480 482 484 486 488 490 492 494 496 498 500 502 504 506 508 510 512 514 516 518 520 522 524 526 528 530 532 534 536 538 540 542 544 546 548 550 552 554 556 558 560 562 564 566 568 570 572 574 576 578 580 582 584 586 588 590 592 594 596 598 600 602 604 606 608 610 612 614 616 618 620 622 624 626 628 630 632 634 636 638 640 642 644 646 648 650 652 654 656 658 660 662 664 666 668 670 672 674 676 678 680 682 684 686 688 690 692 694 696 698 700 702 704 706 708 710 712 714 716 718 720 722 724 726 728 730 732 734 736 738 740 742 744 746 748 750 752 754 756 758 760 762 764 766 768 770 772 774 776 778 780 782 784 786 788 790 792 794 796 798 800 802 804 806 808 810 812 814 816 818 820 822 824 826 828 830 832 834 836 838 840 842 844 846 848 850 852 854 856 858 860 862 864 866 868 870 872 874 876 878 880 882 884 886 888 890 892 894 896 898 900 902 904 906 908 910 912 914 916 918 920 922 924 926 928 930 932 934 936 938 940 942 944 946 948 950 952 954 956 958 960 962 964 966 968 970 972 974 976 978 980 982 984 986 988 990 992 994 996 998 1000 "
          ]
        }
      ]
    },
    {
      "cell_type": "code",
      "source": [
        "# 7. Code to get system time\n",
        "import datetime \n",
        " \n",
        "print(datetime.datetime.time(datetime.datetime.now()))"
      ],
      "metadata": {
        "id": "AqlLEIoDgZ8Y",
        "colab": {
          "base_uri": "https://localhost:8080/"
        },
        "outputId": "6fcba88e-ea95-4e37-a556-2df9471c031d"
      },
      "execution_count": 9,
      "outputs": [
        {
          "output_type": "stream",
          "name": "stdout",
          "text": [
            "15:42:26.503469\n"
          ]
        }
      ]
    },
    {
      "cell_type": "code",
      "source": [
        "# 8. Code to get system date\n",
        "import datetime \n",
        "\n",
        "print(datetime.datetime.date(datetime.datetime.now()))"
      ],
      "metadata": {
        "colab": {
          "base_uri": "https://localhost:8080/"
        },
        "id": "7wZxUDcN_pvP",
        "outputId": "59d8638a-173e-49f5-e474-8e7162176260"
      },
      "execution_count": 10,
      "outputs": [
        {
          "output_type": "stream",
          "name": "stdout",
          "text": [
            "2022-06-02\n"
          ]
        }
      ]
    },
    {
      "cell_type": "code",
      "source": [
        "#9. Write a code to send a mail to your friend\n",
        "# Code giving error despite giving  right credentials.\n",
        "import smtplib\n",
        "\n",
        "try:\n",
        "  s = smtplib.SMTP('smtp.gmail.com', 25)\n",
        "  s.starttls()\n",
        "  s.login('dummytesting911@gmail.com', 'P@ssw0rdNew')\n",
        "  msg = \"Hi! \\n Writing this mail from python code. \\n Bye\"\n",
        "  s.sendmail(\"dummytesting911@gmail.com\", \"dummytesting911@gmail.com\", msg)\n",
        "  \n",
        "except Exception as e:\n",
        "  print(e)\n",
        "\n",
        "finally:\n",
        "  s.quit()"
      ],
      "metadata": {
        "colab": {
          "base_uri": "https://localhost:8080/"
        },
        "id": "6H8k-k9tbr65",
        "outputId": "2b53368c-0bb5-4855-f419-b5ecd03f8404"
      },
      "execution_count": 11,
      "outputs": [
        {
          "output_type": "stream",
          "name": "stdout",
          "text": [
            "(535, b'5.7.8 Username and Password not accepted. Learn more at\\n5.7.8  https://support.google.com/mail/?p=BadCredentials f3-20020a056402150300b0042dd3bf1403sm2609637edw.54 - gsmtp')\n"
          ]
        }
      ]
    },
    {
      "cell_type": "code",
      "source": [
        "# 11. WACT check IP address of the system.\n",
        "import socket\n",
        "\n",
        "ipAdd = socket.gethostbyname(socket.gethostname())\n",
        "\n",
        "print(\"System IP Address: \", ipAdd) "
      ],
      "metadata": {
        "id": "cuweFyPTcEQ3",
        "colab": {
          "base_uri": "https://localhost:8080/"
        },
        "outputId": "b63f7836-d980-4fd0-df8f-bc74b242f36f"
      },
      "execution_count": 12,
      "outputs": [
        {
          "output_type": "stream",
          "name": "stdout",
          "text": [
            "System IP Address:  172.28.0.2\n"
          ]
        }
      ]
    },
    {
      "cell_type": "code",
      "source": [
        "# 14. WAFTR length  of the string without using len function\n",
        "\n",
        "def strLen(str1):\n",
        "  i = 0\n",
        "  for c in str1:\n",
        "    i +=1\n",
        "  return i\n",
        "\n",
        "\n",
        "strLen(\"Archana Ajay\")"
      ],
      "metadata": {
        "colab": {
          "base_uri": "https://localhost:8080/"
        },
        "id": "uwnj5kXCcZzM",
        "outputId": "8d211dcb-f2c1-411c-dc6c-3fe861a26e9b"
      },
      "execution_count": 13,
      "outputs": [
        {
          "output_type": "execute_result",
          "data": {
            "text/plain": [
              "12"
            ]
          },
          "metadata": {},
          "execution_count": 13
        }
      ]
    },
    {
      "cell_type": "code",
      "source": [
        "#16. WAFTR simple list of all the values in dictionary evenif dictionary contains 2 level nesting\n",
        "d1 = {100:2, 101:3, 104: 4, 110:5} \n",
        "d2 = {'s':'a', 'l':[5,6,7], 6:'l'}\n",
        "d3 = {'s1':'a1', 'd4':{'x':5, 200: [6000, 7000], 500:9}, 8:'l2'}\n",
        "\n",
        "def listOfDictValues(*args):\n",
        "  l = [] \n",
        "  for a in args: \n",
        "    for k,v in a.items():\n",
        "      if(type(v) ==list):\n",
        "        l.extend(v)\n",
        "      elif(type(v) ==dict):\n",
        "        for k1,v1 in v.items():\n",
        "          if(type(v1) ==list):\n",
        "            l.extend(v1)\n",
        "          else:\n",
        "            l.append(v1)\n",
        "      else:\n",
        "        l.append(v)\n",
        "  return l\n",
        "\n",
        "listOfDictValues(d1,d2, d3)"
      ],
      "metadata": {
        "id": "VKLJv579hkA9",
        "colab": {
          "base_uri": "https://localhost:8080/"
        },
        "outputId": "87ff42f5-55c8-44ca-eea0-6d435df16903"
      },
      "execution_count": 14,
      "outputs": [
        {
          "output_type": "execute_result",
          "data": {
            "text/plain": [
              "[2, 3, 4, 5, 'a', 5, 6, 7, 'l', 'a1', 5, 6000, 7000, 9, 'l2']"
            ]
          },
          "metadata": {},
          "execution_count": 14
        }
      ]
    },
    {
      "cell_type": "code",
      "source": [
        "#17. WAF which will take multiple list as an input and will return concatanation of all the elements as an output\n",
        "l1 = [2,3,4,5]\n",
        "l2 = ['a', [5,6,7], 'l']\n",
        "\n",
        "def concatAllLists(*args):\n",
        "  l = []\n",
        "  for a in args: \n",
        "    l.extend(a)\n",
        "  return l\n",
        "\n",
        "concatAllLists(l1, l2)"
      ],
      "metadata": {
        "id": "oonTnHAchksy",
        "colab": {
          "base_uri": "https://localhost:8080/"
        },
        "outputId": "b3d5047f-fe93-4f51-b990-af3b74237c60"
      },
      "execution_count": 15,
      "outputs": [
        {
          "output_type": "execute_result",
          "data": {
            "text/plain": [
              "[2, 3, 4, 5, 'a', [5, 6, 7], 'l']"
            ]
          },
          "metadata": {},
          "execution_count": 15
        }
      ]
    },
    {
      "cell_type": "code",
      "source": [
        "#18. WAFTR list of all the file names in the directory.\n",
        "import os\n",
        "\n",
        "def listOfAllFiles(fPath):\n",
        "  return os.listdir(fPath)\n",
        "\n",
        "listOfAllFiles(r\"/content/sample_data\" )"
      ],
      "metadata": {
        "id": "EtC7ymwxhldG",
        "colab": {
          "base_uri": "https://localhost:8080/"
        },
        "outputId": "7203a5f4-7d4c-4aa0-a621-e9d5cf490b60"
      },
      "execution_count": 16,
      "outputs": [
        {
          "output_type": "execute_result",
          "data": {
            "text/plain": [
              "['anscombe.json',\n",
              " 'README.md',\n",
              " 'mnist_test.csv',\n",
              " 'mnist_train_small.csv',\n",
              " 'california_housing_test.csv',\n",
              " 'california_housing_train.csv']"
            ]
          },
          "metadata": {},
          "execution_count": 16
        }
      ]
    },
    {
      "cell_type": "code",
      "source": [
        "#21. WAFTR only word files from the directory.\n",
        "import os\n",
        "\n",
        "def listOfFiles(fPath, fExtn):\n",
        "  return [i for i in os.listdir(fPath) if os.path.splitext(i)[1] == fExtn]\n",
        "  \n",
        "\n",
        "listOfFiles(r\"/content/sample_data\", \".docx\")"
      ],
      "metadata": {
        "id": "ocZBAbNhhnlD",
        "colab": {
          "base_uri": "https://localhost:8080/"
        },
        "outputId": "70579321-58ff-4096-df37-3208c03fcada"
      },
      "execution_count": 17,
      "outputs": [
        {
          "output_type": "execute_result",
          "data": {
            "text/plain": [
              "[]"
            ]
          },
          "metadata": {},
          "execution_count": 17
        }
      ]
    },
    {
      "cell_type": "code",
      "source": [
        "#24. same as 18\n",
        "listOfAllFiles(r\"/content/sample_data\" )"
      ],
      "metadata": {
        "id": "I5b1IASShpPe",
        "colab": {
          "base_uri": "https://localhost:8080/"
        },
        "outputId": "2fb03775-ccd0-48f1-d4e3-7ee6eaae70b5"
      },
      "execution_count": 18,
      "outputs": [
        {
          "output_type": "execute_result",
          "data": {
            "text/plain": [
              "['anscombe.json',\n",
              " 'README.md',\n",
              " 'mnist_test.csv',\n",
              " 'mnist_train_small.csv',\n",
              " 'california_housing_test.csv',\n",
              " 'california_housing_train.csv']"
            ]
          },
          "metadata": {},
          "execution_count": 18
        }
      ]
    },
    {
      "cell_type": "code",
      "source": [
        "# 12. WACT check a perticular installation in the system."
      ],
      "metadata": {
        "id": "Qkw_EShVcMKL"
      },
      "execution_count": 19,
      "outputs": []
    },
    {
      "cell_type": "code",
      "source": [
        "# 13. WACT convert any text into voice"
      ],
      "metadata": {
        "id": "pKxwaN38cTsp"
      },
      "execution_count": 20,
      "outputs": []
    },
    {
      "cell_type": "code",
      "source": [
        "#15. WAFTR all the indeces  of all the premitive elements."
      ],
      "metadata": {
        "id": "B7s7gqcHdbFE"
      },
      "execution_count": 21,
      "outputs": []
    },
    {
      "cell_type": "code",
      "source": [
        "#19. WAFT read and display the image files."
      ],
      "metadata": {
        "id": "US4-Zqa3hl_g"
      },
      "execution_count": 22,
      "outputs": []
    },
    {
      "cell_type": "code",
      "source": [
        "#20. WAFT append two pdf files."
      ],
      "metadata": {
        "id": "8OtTYl8uhmnn"
      },
      "execution_count": 23,
      "outputs": []
    },
    {
      "cell_type": "code",
      "source": [
        "#22. WAFT read and play an audio file."
      ],
      "metadata": {
        "id": "IJ-kAA4LhoEm"
      },
      "execution_count": 24,
      "outputs": []
    },
    {
      "cell_type": "code",
      "source": [
        "#23. WAFT shutdown the system."
      ],
      "metadata": {
        "id": "JttJtRIdhoxg"
      },
      "execution_count": 25,
      "outputs": []
    },
    {
      "cell_type": "code",
      "source": [
        "#25. WAFT access your mail."
      ],
      "metadata": {
        "id": "-g1nW92Khprt"
      },
      "execution_count": 26,
      "outputs": []
    }
  ]
}